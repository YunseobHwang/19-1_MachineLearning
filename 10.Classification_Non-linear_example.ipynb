{
 "cells": [
  {
   "cell_type": "code",
   "execution_count": 2,
   "metadata": {},
   "outputs": [],
   "source": [
    "import numpy as np\n",
    "import matplotlib.pyplot as plt\n",
    "import cvxpy as cvx\n",
    "\n",
    "%matplotlib inline"
   ]
  },
  {
   "cell_type": "code",
   "execution_count": 4,
   "metadata": {},
   "outputs": [
    {
     "data": {
      "text/html": [
       "<center><iframe \n",
       "width=\"420\" height=\"315\" src=\"https://www.youtube.com/embed/3liCbRZPrZA?rel=0\" frameborder=\"0\" allowfullscreen>\n",
       "</iframe></center>\n"
      ],
      "text/plain": [
       "<IPython.core.display.HTML object>"
      ]
     },
     "metadata": {},
     "output_type": "display_data"
    }
   ],
   "source": [
    "%%html\n",
    "<center><iframe \n",
    "width=\"420\" height=\"315\" src=\"https://www.youtube.com/embed/3liCbRZPrZA?rel=0\" frameborder=\"0\" allowfullscreen>\n",
    "</iframe></center>"
   ]
  },
  {
   "cell_type": "code",
   "execution_count": 5,
   "metadata": {},
   "outputs": [
    {
     "data": {
      "image/png": "[encoded data removed]",
      "text/plain": [
       "<Figure size 720x432 with 1 Axes>"
      ]
     },
     "metadata": {
      "needs_background": "light"
     },
     "output_type": "display_data"
    }
   ],
   "source": [
    "X1 = np.array([[-1.1,  0], [-0.3,  0.1], [-0.9,  1],[0.8,  0.4],[0.4,  0.9],[0.3,-0.6],[-0.5, 0.3],\n",
    "        [-0.8,  0.6],[-0.5, -0.5]])\n",
    "     \n",
    "X2 = np.array([[-1,  -1.3], [-1.6 , 2.2],  [0.9, -0.7],[1.6,  0.5],[1.8, -1.1],[1.6,  1.6],[-1.6, -1.7],\n",
    "        [-1.4,  1.8],[1.6, -0.9],[0, -1.6],[0.3, 1.7],[-1.6 , 0],[-2.1,0.2]])\n",
    "\n",
    "X1 = np.asmatrix(X1)\n",
    "X2 = np.asmatrix(X2)\n",
    "\n",
    "plt.figure(figsize=(10, 6))\n",
    "plt.plot(X1[:,0], X1[:,1], 'ro', label='C1')\n",
    "plt.plot(X2[:,0], X2[:,1], 'bo', label='C2')\n",
    "plt.axis([-3,3,-3,3])\n",
    "plt.legend(loc = 4, fontsize = 15)\n",
    "plt.show()"
   ]
  },
  {
   "cell_type": "code",
   "execution_count": 8,
   "metadata": {},
   "outputs": [],
   "source": [
    "N = X1.shape[0]  # C1 point 갯수\n",
    "M = X2.shape[0]\n",
    "\n",
    "X = np.vstack([X1, X2])\n",
    "y = np.vstack([np.ones([N,1]), -np.ones([M,1])])  # 1~N만큼 1, N+1~N+M까지 -1\n",
    "\n",
    "X = np.asmatrix(X)\n",
    "y = np.asmatrix(y)\n",
    "\n",
    "m = N + M\n",
    "Z = np.hstack([np.ones([m,1]), np.square(X[:,0]), np.sqrt(2)*np.multiply(X[:,0],X[:,1]),\n",
    "              np.square(X[:,1])])"
   ]
  },
  {
   "cell_type": "code",
   "execution_count": 9,
   "metadata": {},
   "outputs": [],
   "source": [
    "g = 1 \n",
    "w = cvx.Variable(4, 1)\n",
    "d = cvx.Variable(m, 1)\n",
    "\n",
    "obj = cvx.Minimize(cvx.norm(w, 2) + g*np.ones([1,m])*d)\n",
    "const = [cvx.mul_elemwise(y, Z*w) >= 1-d, d >= 0]\n",
    "prob = cvx.Problem(obj, const).solve()\n",
    "\n",
    "w = w.value"
   ]
  },
  {
   "cell_type": "code",
   "execution_count": 23,
   "metadata": {},
   "outputs": [],
   "source": [
    "# to plot\n",
    "[X1gr, X2gr] = np.meshgrid(np.arange(-3,3,0.1), np.arange(-3,3,0.1))\n",
    "\n",
    "test_X = np.hstack([X1gr.reshape(-1,1), X2gr.reshape(-1,1)])\n",
    "test_X = np.asmatrix(test_X)\n",
    "\n",
    "m = test_X.shape[0]\n",
    "test_Z = np.hstack([np.ones([m,1]), np.square(test_X[:,0]),\n",
    "                    np.sqrt(2)*np.multiply(test_X[:,0],test_X[:,1]),\n",
    "                    np.square(test_X[:,1])])\n",
    "\n",
    "q = test_Z*w "
   ]
  },
  {
   "cell_type": "code",
   "execution_count": 25,
   "metadata": {},
   "outputs": [
    {
     "name": "stdout",
     "output_type": "stream",
     "text": [
      "[[-1.00000000e-01 -1.30000000e+00]\n",
      " [ 2.66453526e-15 -1.30000000e+00]\n",
      " [ 1.00000000e-01 -1.30000000e+00]\n",
      " ...\n",
      " [-1.00000000e-01  1.30000000e+00]\n",
      " [ 2.66453526e-15  1.30000000e+00]\n",
      " [ 1.00000000e-01  1.30000000e+00]]\n"
     ]
    }
   ],
   "source": [
    "B = []\n",
    "\n",
    "for i in range(m):\n",
    "    if q[i,0] > 0:\n",
    "        B.append(test_X[i,:])\n",
    "        \n",
    "B = np.vstack(B)\n",
    "print(B)"
   ]
  },
  {
   "cell_type": "code",
   "execution_count": 26,
   "metadata": {},
   "outputs": [
    {
     "data": {
      "image/png": "[encoded data removed]",
      "text/plain": [
       "<Figure size 720x432 with 1 Axes>"
      ]
     },
     "metadata": {
      "needs_background": "light"
     },
     "output_type": "display_data"
    }
   ],
   "source": [
    "plt.figure(figsize=(10, 6))\n",
    "plt.plot(X1[:,0], X1[:,1], 'ro', label='C1')\n",
    "plt.plot(X2[:,0], X2[:,1], 'bo', label='C2')\n",
    "plt.plot(B[:,0], B[:,1], 'k.')\n",
    "plt.axis([-3,3,-3,3])\n",
    "plt.legend(loc = 4, fontsize = 15)\n",
    "plt.show()"
   ]
  }
 ],
 "metadata": {
  "kernelspec": {
   "display_name": "Python 3",
   "language": "python",
   "name": "python3"
  },
  "language_info": {
   "codemirror_mode": {
    "name": "ipython",
    "version": 3
   },
   "file_extension": ".py",
   "mimetype": "text/x-python",
   "name": "python",
   "nbconvert_exporter": "python",
   "pygments_lexer": "ipython3",
   "version": "3.5.2"
  }
 },
 "nbformat": 4,
 "nbformat_minor": 2
}
