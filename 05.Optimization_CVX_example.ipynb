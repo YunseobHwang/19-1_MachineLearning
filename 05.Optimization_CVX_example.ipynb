{
 "cells": [
  {
   "cell_type": "code",
   "execution_count": 1,
   "metadata": {},
   "outputs": [],
   "source": [
    "import numpy as np\n",
    "import matplotlib.pyplot as plt\n",
    "import cvxpy as cvx"
   ]
  },
  {
   "cell_type": "code",
   "execution_count": 2,
   "metadata": {},
   "outputs": [
    {
     "name": "stdout",
     "output_type": "stream",
     "text": [
      "[[11.]\n",
      " [ 7.]]\n",
      "-17.999999998643816\n"
     ]
    }
   ],
   "source": [
    "# Problem data\n",
    "f = np.array([[1, 1]]) # objective function f*x(matrix)\n",
    "\n",
    "# constraints\n",
    "A = np.array([[2, 1], [1, 2]])\n",
    "b = np.array([[29], [25]])\n",
    "lb = np.array([[2], [5]])\n",
    "\n",
    "# Linear Programming (Convex)\n",
    "\n",
    "# Construct the problem\n",
    "x = cvx.Variable(2,1)  # (2,1) shape 2x1 행렬 변수 선언\n",
    "\n",
    "objective = cvx.Minimize(-f*x) # obejctive는 cvx를 최소화시키는 것이고 \n",
    "constraints = [A*x <= b, lb <= x] # subject to..\n",
    "\n",
    "prob = cvx.Problem(objective, constraints) # optimization 문제가 만들었고,\n",
    "result = prob.solve() # prob.solve 풀어라\n",
    "\n",
    "print (x.value)\n",
    "print (result)"
   ]
  },
  {
   "cell_type": "code",
   "execution_count": 3,
   "metadata": {},
   "outputs": [
    {
     "name": "stdout",
     "output_type": "stream",
     "text": [
      "[[7.37787558e-10]\n",
      " [5.00000000e+00]]\n",
      "20.00000000034897\n"
     ]
    }
   ],
   "source": [
    "import numpy as np\n",
    "import matplotlib.pyplot as plt\n",
    "import cvxpy as cvx\n",
    "\n",
    "# Quadratic Problem\n",
    "\n",
    "# Problem data\n",
    "f = np.array([[3], [4]])\n",
    "H = np.array([[1, 0], [0, 0]])\n",
    "A = np.array([[-1, -3], [2, 5], [3, 4]])\n",
    "b = np.array([[-15], [100], [80]])\n",
    "lb = np.array([[0], [0]])\n",
    "\n",
    "# Construct the problem\n",
    "x = cvx.Variable(2,1)  # (2,1) shape 2x1 행렬 변수 선언\n",
    "\n",
    "objective = cvx.Minimize(cvx.quad_form(x, H) + f.T*x) # obejctive는 cvx를 최소화시키는 것이고 \n",
    "constraints = [A*x <= b, lb <= x] # subject to..\n",
    "\n",
    "prob = cvx.Problem(objective, constraints) # optimization 문제가 만들었고,\n",
    "result = prob.solve() # prob.solve 풀어라\n",
    "\n",
    "print (x.value)\n",
    "print (result)"
   ]
  }
 ],
 "metadata": {
  "kernelspec": {
   "display_name": "Python 3",
   "language": "python",
   "name": "python3"
  },
  "language_info": {
   "codemirror_mode": {
    "name": "ipython",
    "version": 3
   },
   "file_extension": ".py",
   "mimetype": "text/x-python",
   "name": "python",
   "nbconvert_exporter": "python",
   "pygments_lexer": "ipython3",
   "version": "3.5.2"
  }
 },
 "nbformat": 4,
 "nbformat_minor": 2
}
